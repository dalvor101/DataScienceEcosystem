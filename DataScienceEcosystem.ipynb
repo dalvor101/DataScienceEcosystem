{
 "cells": [
  {
   "cell_type": "markdown",
   "id": "03e88593-367f-4567-b663-5bd1f048b2f2",
   "metadata": {},
   "source": [
    "# Data Science Tools and Ecosystem"
   ]
  },
  {
   "cell_type": "markdown",
   "id": "ea120f0f-b724-489b-9bbf-1401c770202e",
   "metadata": {},
   "source": [
    "In this notebook, Data Science Tools and Ecosystem are summarised"
   ]
  },
  {
   "cell_type": "markdown",
   "id": "a92b7857-17cd-445a-ae46-46386a4cded5",
   "metadata": {},
   "source": [
    "**Objectives**\n",
    "\n",
    "- list popular languages for data science\n",
    "- list popular tools for data science\n",
    "- list popular libraries for data science\n",
    "- use jupyter notebooks to enter markup\n",
    "- use jupyter notebooks to run python code"
   ]
  },
  {
   "cell_type": "markdown",
   "id": "a67d5834-e041-4be3-85ec-1067a807750a",
   "metadata": {},
   "source": [
    "Some of the popular launguagse that Data Scientists use are:\n",
    "\n",
    "1. Python\n",
    "2. R\n",
    "3. C\n",
    "4. Julia"
   ]
  },
  {
   "cell_type": "markdown",
   "id": "4bfe0d5c-3431-4fd2-8a1c-817c08e3d048",
   "metadata": {},
   "source": [
    "Some of the commonly used librarises used by Data Scientists include:\n",
    "\n",
    "1. Pandas\n",
    "2. Matplotlib\n",
    "3. Plotly\n",
    "4. Numpy"
   ]
  },
  {
   "cell_type": "markdown",
   "id": "5d2b5461-9f44-4f42-8139-e7d4995ff7b3",
   "metadata": {},
   "source": [
    "|Data Science Tools|\n",
    "|------|\n",
    "| Jupyter Lab |\n",
    "| R Studio |\n",
    "| Anaconda|\n",
    "| Github|"
   ]
  },
  {
   "cell_type": "markdown",
   "id": "d5a55f61-7152-44e1-9d01-6c28977dd8ba",
   "metadata": {},
   "source": [
    "### Below are a few examples of evluation arithmetic expressions in Python"
   ]
  },
  {
   "cell_type": "code",
   "execution_count": 1,
   "id": "60d3e0b6-064c-45d6-951a-a99ee9f5a71f",
   "metadata": {},
   "outputs": [
    {
     "data": {
      "text/plain": [
       "17"
      ]
     },
     "execution_count": 1,
     "metadata": {},
     "output_type": "execute_result"
    }
   ],
   "source": [
    "# This is a simple arithmetic expression to multiply then add integers\n",
    "(3*4)+5"
   ]
  },
  {
   "cell_type": "code",
   "execution_count": 2,
   "id": "9666d960-06f7-4335-8730-0c365bcf135f",
   "metadata": {},
   "outputs": [
    {
     "name": "stdout",
     "output_type": "stream",
     "text": [
      "3.3333333333333335\n"
     ]
    }
   ],
   "source": [
    "# This wil convert 200 minutes to hours by dividing by 60\n",
    "minutes = 200\n",
    "hours = minutes/60\n",
    "print(hours)\n"
   ]
  },
  {
   "cell_type": "markdown",
   "id": "efbc8662-de35-4f51-b072-4aafde063ceb",
   "metadata": {},
   "source": [
    "## Author\n",
    "David Curran"
   ]
  }
 ],
 "metadata": {
  "kernelspec": {
   "display_name": "Python 3 (ipykernel)",
   "language": "python",
   "name": "python3"
  },
  "language_info": {
   "codemirror_mode": {
    "name": "ipython",
    "version": 3
   },
   "file_extension": ".py",
   "mimetype": "text/x-python",
   "name": "python",
   "nbconvert_exporter": "python",
   "pygments_lexer": "ipython3",
   "version": "3.11.4"
  }
 },
 "nbformat": 4,
 "nbformat_minor": 5
}
